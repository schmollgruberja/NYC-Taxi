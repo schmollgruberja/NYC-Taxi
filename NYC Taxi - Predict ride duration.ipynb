{
 "cells": [
  {
   "cell_type": "markdown",
   "metadata": {},
   "source": [
    "# Application Development (GIS) -  University of Salzburg"
   ]
  },
  {
   "cell_type": "markdown",
   "metadata": {},
   "source": [
    "### Final Project: Jakob Schmollgruber"
   ]
  },
  {
   "cell_type": "markdown",
   "metadata": {},
   "source": [
    "Submission: 14. 5. 2018"
   ]
  },
  {
   "cell_type": "markdown",
   "metadata": {},
   "source": [
    "# New York City Taxi Trip Duration"
   ]
  },
  {
   "cell_type": "markdown",
   "metadata": {},
   "source": [
    "\"In this competition, Kaggle is [challenging](https://www.kaggle.com/c/nyc-taxi-trip-duration) you to build a model that predicts the total ride duration of taxi trips in New York City. Your primary dataset is one released by the NYC Taxi and Limousine Commission, which includes pickup time, geo-coordinates, number of passengers, and several other variables.\" -Kaggle\n"
   ]
  },
  {
   "cell_type": "markdown",
   "metadata": {},
   "source": [
    "In this final Project of Application Development (GIS) we want to develop and train a Machine Learning algorithm to be able to predict the approximate trip duration of a NYC Taxi. Needless to say, this prediction is not just helpful to determine driving time of taxis. \n",
    "\n",
    "We decided to choose an educative, well documented approach - to be sure even laymens are able to understand the core steps in this project."
   ]
  },
  {
   "cell_type": "markdown",
   "metadata": {},
   "source": [
    "## 0. Machine Learning Approach "
   ]
  },
  {
   "cell_type": "markdown",
   "metadata": {},
   "source": [
    "\n",
    "This trip duration prediction task can be solved by a classical Supervised Learning approach. Supervised Learning means you have labeled training data - for some cab rides you know the true trip time. With the aid of this data we want to generate a generalized model to be able to predict unknown trips. \n",
    "\n",
    "We picture to oneself a Machine Learning Algorithm like a mathematical function f. \n",
    " \n",
    "f ( Explanatory Variables ) = trip_duration\n",
    " \n",
    "This function f we want to obtain in this FINAL Project. "
   ]
  },
  {
   "cell_type": "markdown",
   "metadata": {},
   "source": [
    "## 1. Data import & description"
   ]
  },
  {
   "cell_type": "markdown",
   "metadata": {},
   "source": [
    "At first, we import the dataset and all the packages we need in this section. "
   ]
  },
  {
   "cell_type": "code",
   "execution_count": 1,
   "metadata": {},
   "outputs": [],
   "source": [
    "import pandas as pd\n",
    "import numpy as np\n",
    "import warnings\n",
    "warnings.filterwarnings('ignore')\n",
    "data_raw=pd.read_csv(\"train.csv\")"
   ]
  },
  {
   "cell_type": "markdown",
   "metadata": {},
   "source": [
    "The code in the next line shows that we are dealing with 1458644 observed taxi trips. Each trip has 11 features. "
   ]
  },
  {
   "cell_type": "code",
   "execution_count": 2,
   "metadata": {},
   "outputs": [
    {
     "data": {
      "text/plain": [
       "(1458644, 11)"
      ]
     },
     "execution_count": 2,
     "metadata": {},
     "output_type": "execute_result"
    }
   ],
   "source": [
    "data_raw.shape"
   ]
  },
  {
   "cell_type": "markdown",
   "metadata": {},
   "source": [
    "Here we can see the data type of every single feature. We suggest using this function all along - it's helpful to know what kind of data you are dealing with."
   ]
  },
  {
   "cell_type": "code",
   "execution_count": 3,
   "metadata": {},
   "outputs": [
    {
     "data": {
      "text/plain": [
       "id                     object\n",
       "vendor_id               int64\n",
       "pickup_datetime        object\n",
       "dropoff_datetime       object\n",
       "passenger_count         int64\n",
       "pickup_longitude      float64\n",
       "pickup_latitude       float64\n",
       "dropoff_longitude     float64\n",
       "dropoff_latitude      float64\n",
       "store_and_fwd_flag     object\n",
       "trip_duration           int64\n",
       "dtype: object"
      ]
     },
     "execution_count": 3,
     "metadata": {},
     "output_type": "execute_result"
    }
   ],
   "source": [
    "data_raw.dtypes"
   ]
  },
  {
   "cell_type": "markdown",
   "metadata": {},
   "source": [
    "Now let's take a closer look to the dataframe:"
   ]
  },
  {
   "cell_type": "code",
   "execution_count": 4,
   "metadata": {},
   "outputs": [
    {
     "data": {
      "text/html": [
       "<div>\n",
       "<style scoped>\n",
       "    .dataframe tbody tr th:only-of-type {\n",
       "        vertical-align: middle;\n",
       "    }\n",
       "\n",
       "    .dataframe tbody tr th {\n",
       "        vertical-align: top;\n",
       "    }\n",
       "\n",
       "    .dataframe thead th {\n",
       "        text-align: right;\n",
       "    }\n",
       "</style>\n",
       "<table border=\"1\" class=\"dataframe\">\n",
       "  <thead>\n",
       "    <tr style=\"text-align: right;\">\n",
       "      <th></th>\n",
       "      <th>id</th>\n",
       "      <th>vendor_id</th>\n",
       "      <th>pickup_datetime</th>\n",
       "      <th>dropoff_datetime</th>\n",
       "      <th>passenger_count</th>\n",
       "      <th>pickup_longitude</th>\n",
       "      <th>pickup_latitude</th>\n",
       "      <th>dropoff_longitude</th>\n",
       "      <th>dropoff_latitude</th>\n",
       "      <th>store_and_fwd_flag</th>\n",
       "      <th>trip_duration</th>\n",
       "    </tr>\n",
       "  </thead>\n",
       "  <tbody>\n",
       "    <tr>\n",
       "      <th>0</th>\n",
       "      <td>id2875421</td>\n",
       "      <td>2</td>\n",
       "      <td>2016-03-14 17:24:55</td>\n",
       "      <td>2016-03-14 17:32:30</td>\n",
       "      <td>1</td>\n",
       "      <td>-73.982155</td>\n",
       "      <td>40.767937</td>\n",
       "      <td>-73.964630</td>\n",
       "      <td>40.765602</td>\n",
       "      <td>N</td>\n",
       "      <td>455</td>\n",
       "    </tr>\n",
       "    <tr>\n",
       "      <th>1</th>\n",
       "      <td>id2377394</td>\n",
       "      <td>1</td>\n",
       "      <td>2016-06-12 00:43:35</td>\n",
       "      <td>2016-06-12 00:54:38</td>\n",
       "      <td>1</td>\n",
       "      <td>-73.980415</td>\n",
       "      <td>40.738564</td>\n",
       "      <td>-73.999481</td>\n",
       "      <td>40.731152</td>\n",
       "      <td>N</td>\n",
       "      <td>663</td>\n",
       "    </tr>\n",
       "    <tr>\n",
       "      <th>2</th>\n",
       "      <td>id3858529</td>\n",
       "      <td>2</td>\n",
       "      <td>2016-01-19 11:35:24</td>\n",
       "      <td>2016-01-19 12:10:48</td>\n",
       "      <td>1</td>\n",
       "      <td>-73.979027</td>\n",
       "      <td>40.763939</td>\n",
       "      <td>-74.005333</td>\n",
       "      <td>40.710087</td>\n",
       "      <td>N</td>\n",
       "      <td>2124</td>\n",
       "    </tr>\n",
       "    <tr>\n",
       "      <th>3</th>\n",
       "      <td>id3504673</td>\n",
       "      <td>2</td>\n",
       "      <td>2016-04-06 19:32:31</td>\n",
       "      <td>2016-04-06 19:39:40</td>\n",
       "      <td>1</td>\n",
       "      <td>-74.010040</td>\n",
       "      <td>40.719971</td>\n",
       "      <td>-74.012268</td>\n",
       "      <td>40.706718</td>\n",
       "      <td>N</td>\n",
       "      <td>429</td>\n",
       "    </tr>\n",
       "    <tr>\n",
       "      <th>4</th>\n",
       "      <td>id2181028</td>\n",
       "      <td>2</td>\n",
       "      <td>2016-03-26 13:30:55</td>\n",
       "      <td>2016-03-26 13:38:10</td>\n",
       "      <td>1</td>\n",
       "      <td>-73.973053</td>\n",
       "      <td>40.793209</td>\n",
       "      <td>-73.972923</td>\n",
       "      <td>40.782520</td>\n",
       "      <td>N</td>\n",
       "      <td>435</td>\n",
       "    </tr>\n",
       "  </tbody>\n",
       "</table>\n",
       "</div>"
      ],
      "text/plain": [
       "          id  vendor_id      pickup_datetime     dropoff_datetime  \\\n",
       "0  id2875421          2  2016-03-14 17:24:55  2016-03-14 17:32:30   \n",
       "1  id2377394          1  2016-06-12 00:43:35  2016-06-12 00:54:38   \n",
       "2  id3858529          2  2016-01-19 11:35:24  2016-01-19 12:10:48   \n",
       "3  id3504673          2  2016-04-06 19:32:31  2016-04-06 19:39:40   \n",
       "4  id2181028          2  2016-03-26 13:30:55  2016-03-26 13:38:10   \n",
       "\n",
       "   passenger_count  pickup_longitude  pickup_latitude  dropoff_longitude  \\\n",
       "0                1        -73.982155        40.767937         -73.964630   \n",
       "1                1        -73.980415        40.738564         -73.999481   \n",
       "2                1        -73.979027        40.763939         -74.005333   \n",
       "3                1        -74.010040        40.719971         -74.012268   \n",
       "4                1        -73.973053        40.793209         -73.972923   \n",
       "\n",
       "   dropoff_latitude store_and_fwd_flag  trip_duration  \n",
       "0         40.765602                  N            455  \n",
       "1         40.731152                  N            663  \n",
       "2         40.710087                  N           2124  \n",
       "3         40.706718                  N            429  \n",
       "4         40.782520                  N            435  "
      ]
     },
     "metadata": {},
     "output_type": "display_data"
    }
   ],
   "source": [
    "display(data_raw.head())"
   ]
  },
  {
   "cell_type": "markdown",
   "metadata": {},
   "source": [
    "## 2. First Data Vizualisation"
   ]
  },
  {
   "cell_type": "markdown",
   "metadata": {},
   "source": [
    "As they say 'a picture paints a thousand words' - to understand the data best we always visualize the data we are dealing with. It helps to get a better understanding of the data."
   ]
  },
  {
   "cell_type": "markdown",
   "metadata": {},
   "source": [
    "As we can see in the histogram the 'pickup_latitude' data biased. There are such extreme values that we expect the data to be false or at least irrelevant for our prediction. We can recognize the same property in all gps data features. We will drop these observation."
   ]
  },
  {
   "cell_type": "code",
   "execution_count": 38,
   "metadata": {},
   "outputs": [
    {
     "data": {
      "text/plain": [
       "Text(0,0.5,'density')"
      ]
     },
     "execution_count": 38,
     "metadata": {},
     "output_type": "execute_result"
    },
    {
     "data": {
      "image/png": "[encoded data removed]",
      "text/plain": [
       "<Figure size 432x288 with 1 Axes>"
      ]
     },
     "metadata": {},
     "output_type": "display_data"
    }
   ],
   "source": [
    "import matplotlib.pyplot as plt\n",
    "n, bins, patches =plt.hist(data_raw['pickup_latitude'], 50, density=1, facecolor='b', alpha=1)\n",
    "plt.xlabel('pickup_latitude')\n",
    "plt.ylabel('density')"
   ]
  },
  {
   "cell_type": "markdown",
   "metadata": {},
   "source": [
    "We see even 'trip_duration', the response variable is contaminated by outliners:"
   ]
  },
  {
   "cell_type": "code",
   "execution_count": 32,
   "metadata": {},
   "outputs": [
    {
     "data": {
      "text/plain": [
       "Text(0,0.5,'density')"
      ]
     },
     "execution_count": 32,
     "metadata": {},
     "output_type": "execute_result"
    },
    {
     "data": {
      "image/png": "[encoded data removed]",
      "text/plain": [
       "<Figure size 432x288 with 1 Axes>"
      ]
     },
     "metadata": {},
     "output_type": "display_data"
    }
   ],
   "source": [
    "n, bins, patches =plt.hist(data_raw['trip_duration'], 50, density=1, facecolor='b', alpha=1)\n",
    "plt.xlabel('trip_duration')\n",
    "plt.ylabel('density')"
   ]
  },
  {
   "cell_type": "markdown",
   "metadata": {},
   "source": [
    " We need to clean the input data. This leads to this:"
   ]
  },
  {
   "cell_type": "markdown",
   "metadata": {},
   "source": [
    "## 3. Data Preprocessing"
   ]
  },
  {
   "cell_type": "markdown",
   "metadata": {},
   "source": [
    "In the following section we will clean the data. This means we will drop observation with extreme values. We assume that there occurred some errors in the measurement process - at least this data would not behave well to the success of our predictor.\n",
    "\n",
    "In addition, all the time data is stored in date objects - we have to extract this and save to atomar features. \n",
    "This procedure is necessary - the original data is not suitable for Machine Learning algorithms."
   ]
  },
  {
   "cell_type": "markdown",
   "metadata": {},
   "source": [
    "### 3.1. Extracting Data"
   ]
  },
  {
   "cell_type": "code",
   "execution_count": 33,
   "metadata": {},
   "outputs": [],
   "source": [
    "import datetime"
   ]
  },
  {
   "cell_type": "code",
   "execution_count": 8,
   "metadata": {},
   "outputs": [],
   "source": [
    "def split_date(string):\n",
    "    sp=string.split()\n",
    "    year,month,day=sp[0].split('-')\n",
    "    hour,minute,second=sp[1].split(':')\n",
    "    return year,month,day,hour,minute,second\n",
    "\n",
    "#We drop year and second\n",
    "def split_date_red(string):\n",
    "    sp=string.split()\n",
    "    year,month,day=sp[0].split('-')\n",
    "    hour,minute,second=sp[1].split(':')\n",
    "    weekday=dt.date(int(year), int(month), int(day)).weekday()\n",
    "    return int(month),int(day),weekday,int(hour),int(minute)"
   ]
  },
  {
   "cell_type": "markdown",
   "metadata": {},
   "source": [
    "We think the year and the second do not influence the trip duration. On the other hand it's important to keep the month to consider characteristic climatic occurrences and in addition the weekday. We obtain the weekday by the datetime package. Since we have pickup and dropoff date it's reasonable to simplifying assume that day, weekday and month will be the same, so we just keep the pickup data.\n",
    "\n",
    "<!---\n",
    "Monday is 0 and Sunday is 6\n",
    "-->"
   ]
  },
  {
   "cell_type": "code",
   "execution_count": 34,
   "metadata": {},
   "outputs": [],
   "source": [
    "new_month=[]\n",
    "new_day=[]\n",
    "new_weekday=[]\n",
    "new_hour=[]\n",
    "new_minute=[]\n",
    "\n",
    "for date in data_raw['pickup_datetime']:\n",
    "    split_date=split_date_red(date)\n",
    "    new_month.append(split_date[0])\n",
    "    new_day.append(split_date[1])\n",
    "    new_weekday.append(split_date[2])\n",
    "    new_hour.append(split_date[3])\n",
    "    new_minute.append(split_date[4])\n",
    "    \n",
    "processed_data= data_raw\n",
    "processed_data['month']= new_month\n",
    "processed_data['day']= new_day\n",
    "processed_data['weekday']=new_weekday\n",
    "processed_data['hour_pickup']=new_hour\n",
    "processed_data['minute_pickup']=new_minute\n",
    "    \n",
    "    \n",
    "new_hour=[]\n",
    "new_minute=[]\n",
    "\n",
    "for date in data_raw['dropoff_datetime']:\n",
    "    split_date=split_date_red(date)\n",
    "    new_hour.append(split_date[3])\n",
    "    new_minute.append(split_date[4])\n",
    "processed_data['hour_dropoff']=new_hour\n",
    "processed_data['minute_dropoff']=new_minute"
   ]
  },
  {
   "cell_type": "code",
   "execution_count": 10,
   "metadata": {},
   "outputs": [],
   "source": [
    "processed_data=processed_data.drop(['id', 'vendor_id','pickup_datetime','dropoff_datetime','store_and_fwd_flag'], axis=1)"
   ]
  },
  {
   "cell_type": "markdown",
   "metadata": {},
   "source": [
    "### 3.2. Cleaning Explanatory Variables"
   ]
  },
  {
   "cell_type": "code",
   "execution_count": 11,
   "metadata": {},
   "outputs": [],
   "source": [
    "processed_data=processed_data[processed_data['pickup_longitude'] >= -74.1]\n",
    "processed_data=processed_data[processed_data['pickup_longitude'] <= -73.8]\n",
    "\n",
    "processed_data=processed_data[processed_data['dropoff_longitude'] >= -74.1]\n",
    "processed_data=processed_data[processed_data['dropoff_longitude'] <= -73.8]"
   ]
  },
  {
   "cell_type": "code",
   "execution_count": 12,
   "metadata": {},
   "outputs": [],
   "source": [
    "processed_data=processed_data[processed_data['pickup_latitude'] >= 40.6]\n",
    "processed_data=processed_data[processed_data['pickup_latitude'] <= 40.9]\n",
    "\n",
    "processed_data=processed_data[processed_data['dropoff_latitude'] >= 40.6]\n",
    "processed_data=processed_data[processed_data['dropoff_latitude'] <= 41.9]"
   ]
  },
  {
   "cell_type": "markdown",
   "metadata": {},
   "source": [
    "### 3.3. Cleaning Response Variable "
   ]
  },
  {
   "cell_type": "markdown",
   "metadata": {},
   "source": [
    "Since the trip duration is what we are interested in, this feature is very important to us. The response variable need some particular effort of tidying. We do not want just to drop defective data, we do want to clear rows with rare values in 'trip_duration'. \n",
    "We do this because we want to train a classifier being able to predict the duration of a common taxi tour - we are not interested in party tours etc.\n",
    "\n",
    "We decided to keep values in between the 5 % and 95 % quantile. "
   ]
  },
  {
   "cell_type": "code",
   "execution_count": 13,
   "metadata": {},
   "outputs": [
    {
     "data": {
      "text/plain": [
       "0.05     179.0\n",
       "0.50     644.0\n",
       "0.95    1854.0\n",
       "Name: trip_duration, dtype: float64"
      ]
     },
     "execution_count": 13,
     "metadata": {},
     "output_type": "execute_result"
    }
   ],
   "source": [
    "processed_data['trip_duration'].quantile([0.05,0.5,0.95])"
   ]
  },
  {
   "cell_type": "code",
   "execution_count": 14,
   "metadata": {},
   "outputs": [],
   "source": [
    "min_trip=180\n",
    "max_trip=2104"
   ]
  },
  {
   "cell_type": "code",
   "execution_count": 15,
   "metadata": {},
   "outputs": [],
   "source": [
    "processed_data=processed_data[processed_data['trip_duration'] >= min_trip]\n",
    "processed_data=processed_data[processed_data['trip_duration'] <= max_trip]"
   ]
  },
  {
   "cell_type": "markdown",
   "metadata": {},
   "source": [
    "## 4. Data Visualization"
   ]
  },
  {
   "cell_type": "markdown",
   "metadata": {},
   "source": [
    "In the past section we managed to clean and extract the data now we can generate some nice visualizations."
   ]
  },
  {
   "cell_type": "markdown",
   "metadata": {},
   "source": [
    "We will start with a histogram of the trip duration:"
   ]
  },
  {
   "cell_type": "code",
   "execution_count": 16,
   "metadata": {},
   "outputs": [
    {
     "data": {
      "text/plain": [
       "Text(0,0.5,'density')"
      ]
     },
     "execution_count": 16,
     "metadata": {},
     "output_type": "execute_result"
    },
    {
     "data": {
      "image/png": "[encoded data removed]",
      "text/plain": [
       "<Figure size 432x288 with 1 Axes>"
      ]
     },
     "metadata": {},
     "output_type": "display_data"
    }
   ],
   "source": [
    "n, bins, patches =plt.hist(processed_data['trip_duration'], 50, density=1, facecolor='b', alpha=1)\n",
    "plt.xlabel('trip_duration')\n",
    "plt.ylabel('density')"
   ]
  },
  {
   "cell_type": "markdown",
   "metadata": {},
   "source": [
    "The 25 %, 50 % and 75 quantile of the 'trip_duration' :"
   ]
  },
  {
   "cell_type": "code",
   "execution_count": 17,
   "metadata": {},
   "outputs": [
    {
     "data": {
      "text/plain": [
       "0.25     418.0\n",
       "0.50     655.0\n",
       "0.75    1002.0\n",
       "Name: trip_duration, dtype: float64"
      ]
     },
     "execution_count": 17,
     "metadata": {},
     "output_type": "execute_result"
    }
   ],
   "source": [
    "processed_data['trip_duration'].quantile([0.25,0.5,0.75])"
   ]
  },
  {
   "cell_type": "markdown",
   "metadata": {},
   "source": [
    "The mean value of 'trip_duration' :"
   ]
  },
  {
   "cell_type": "code",
   "execution_count": 18,
   "metadata": {},
   "outputs": [
    {
     "data": {
      "text/plain": [
       "755.3477881169633"
      ]
     },
     "execution_count": 18,
     "metadata": {},
     "output_type": "execute_result"
    }
   ],
   "source": [
    "processed_data['trip_duration'].mean()"
   ]
  },
  {
   "cell_type": "markdown",
   "metadata": {},
   "source": [
    "Here we can see the histogram of the pickup_latitude:"
   ]
  },
  {
   "cell_type": "code",
   "execution_count": 19,
   "metadata": {},
   "outputs": [
    {
     "data": {
      "text/plain": [
       "Text(0,0.5,'density')"
      ]
     },
     "execution_count": 19,
     "metadata": {},
     "output_type": "execute_result"
    },
    {
     "data": {
      "image/png": "[encoded data removed]",
      "text/plain": [
       "<Figure size 432x288 with 1 Axes>"
      ]
     },
     "metadata": {},
     "output_type": "display_data"
    }
   ],
   "source": [
    "n, bins, patches =plt.hist(processed_data['pickup_latitude'], 50, density=1, facecolor='b', alpha=1)\n",
    "plt.xlabel('pickup_longitude')\n",
    "plt.ylabel('density')"
   ]
  },
  {
   "cell_type": "markdown",
   "metadata": {},
   "source": [
    "The next one is a bit more technical. Visualization like that are called confusion plots. \n",
    "In a multi feature dataset they help to illustrate properties between two features. In our case we used the confusion plot to visualize the pairwise correlation coefficient of columns: "
   ]
  },
  {
   "cell_type": "code",
   "execution_count": 20,
   "metadata": {},
   "outputs": [
    {
     "data": {
      "image/png": "[encoded data removed]",
      "text/plain": [
       "<Figure size 432x288 with 2 Axes>"
      ]
     },
     "metadata": {},
     "output_type": "display_data"
    }
   ],
   "source": [
    "import seaborn as sns\n",
    "ax = sns.heatmap(processed_data.corr(method='spearman'),cmap=\"YlGnBu\")"
   ]
  },
  {
   "cell_type": "markdown",
   "metadata": {},
   "source": [
    "On the diagonal there we have a correlation coefficient of 1 for sure. We can see that pickup laltitude and drop off laltitude are correlating - which seems reasonable."
   ]
  },
  {
   "cell_type": "markdown",
   "metadata": {},
   "source": [
    "In the next picture we can see a boxplot of the trip_duration depending on the time of day. \n",
    "We can see this feature will have some large influence on the trip_duration."
   ]
  },
  {
   "cell_type": "code",
   "execution_count": 21,
   "metadata": {},
   "outputs": [
    {
     "data": {
      "image/png": "[encoded data removed]",
      "text/plain": [
       "<Figure size 432x288 with 1 Axes>"
      ]
     },
     "metadata": {},
     "output_type": "display_data"
    }
   ],
   "source": [
    "pr1=processed_data[processed_data['hour_pickup'] == 1]\n",
    "pr2=processed_data[processed_data['hour_pickup'] == 6]\n",
    "pr3=processed_data[processed_data['hour_pickup'] == 16]\n",
    "\n",
    "data=[pr1['trip_duration'],pr2['trip_duration'],pr3['trip_duration']]\n",
    "mpl_fig = plt.figure()\n",
    "ax = mpl_fig.add_subplot(111)\n",
    "ax.set_xlabel('differnet daytime')\n",
    "ax.set_ylabel('trip_duration')\n",
    "a=ax.boxplot(data)"
   ]
  },
  {
   "cell_type": "markdown",
   "metadata": {},
   "source": [
    "## 5. Feature Transformation & Pre- knowledge"
   ]
  },
  {
   "cell_type": "markdown",
   "metadata": {},
   "source": [
    "The haversine function returns the airline distance of a taxi trip calculated based on the gps coordinates. "
   ]
  },
  {
   "cell_type": "markdown",
   "metadata": {},
   "source": [
    "https://stackoverflow.com/questions/15736995/how-can-i-quickly-estimate-the-distance-between-two-latitude-longitude-points?utm_medium=organic&utm_source=google_rich_qa&utm_campaign=google_rich_qa"
   ]
  },
  {
   "cell_type": "code",
   "execution_count": 22,
   "metadata": {},
   "outputs": [],
   "source": [
    "from math import radians, cos, sin, asin, sqrt\n",
    "def haversine(lon1, lat1, lon2, lat2):\n",
    "    \"\"\"\n",
    "    Calculate the great circle distance between two points \n",
    "    on the earth (specified in decimal degrees)\n",
    "    \"\"\"\n",
    "    # convert decimal degrees to radians \n",
    "    lon1, lat1, lon2, lat2 = map(radians, [lon1, lat1, lon2, lat2])\n",
    "    # haversine formula \n",
    "    dlon = lon2 - lon1 \n",
    "    dlat = lat2 - lat1 \n",
    "    a = sin(dlat/2)**2 + cos(lat1) * cos(lat2) * sin(dlon/2)**2\n",
    "    c = 2 * asin(sqrt(a)) \n",
    "    # Radius of earth in kilometers is 6371\n",
    "    km = 6371* c\n",
    "    return km"
   ]
  },
  {
   "cell_type": "markdown",
   "metadata": {},
   "source": [
    "We apply this function on the gps coordinates in the processed_data dataset and generate the distance new column. \n",
    "\n",
    "This feature helps the Machine Learning Algorithm to understand the distance property  of the pickup and dropoff coordinates.\n",
    "Approaches likes this we call pre- knowledge retrieval."
   ]
  },
  {
   "cell_type": "code",
   "execution_count": 23,
   "metadata": {},
   "outputs": [],
   "source": [
    "processed_data['distance'] = processed_data.apply(lambda row: haversine(row['pickup_longitude'], row['pickup_latitude'],row['dropoff_longitude'], row['dropoff_latitude']), axis=1)"
   ]
  },
  {
   "cell_type": "markdown",
   "metadata": {},
   "source": [
    "The domain's range of the features in our dataset varies a lot. This has a bad influence on all not translation invariant Machine Learning algorithms. We do not want to explain this process more in detail.\n",
    "As a matter of fact we do want to have all values of all feature in [0,1]."
   ]
  },
  {
   "cell_type": "code",
   "execution_count": 24,
   "metadata": {},
   "outputs": [],
   "source": [
    "processed_data['month']=processed_data['month']/12\n",
    "processed_data['day']=processed_data['day']/31\n",
    "processed_data['weekday']=processed_data['weekday']/6\n",
    "processed_data['hour_pickup']=processed_data['hour_pickup']/24\n",
    "processed_data['hour_dropoff']=processed_data['hour_dropoff']/24\n",
    "processed_data['pickup_longitude']=processed_data['pickup_longitude']/(-74.1)\n",
    "processed_data['dropoff_longitude']=processed_data['dropoff_longitude']/(-74.1)\n",
    "\n",
    "processed_data['pickup_latitude']=processed_data['pickup_latitude']/41.9\n",
    "processed_data['dropoff_latitude']=processed_data['dropoff_latitude']/41.9\n",
    "processed_data['minute_dropoff']=processed_data['minute_dropoff']/60\n",
    "processed_data['minute_pickup']=processed_data['minute_pickup']/60\n",
    "processed_data['distance']=processed_data['distance']/processed_data['distance'].max()"
   ]
  },
  {
   "cell_type": "markdown",
   "metadata": {},
   "source": [
    "We display the pre- processed data:"
   ]
  },
  {
   "cell_type": "code",
   "execution_count": 25,
   "metadata": {},
   "outputs": [
    {
     "data": {
      "text/html": [
       "<div>\n",
       "<style scoped>\n",
       "    .dataframe tbody tr th:only-of-type {\n",
       "        vertical-align: middle;\n",
       "    }\n",
       "\n",
       "    .dataframe tbody tr th {\n",
       "        vertical-align: top;\n",
       "    }\n",
       "\n",
       "    .dataframe thead th {\n",
       "        text-align: right;\n",
       "    }\n",
       "</style>\n",
       "<table border=\"1\" class=\"dataframe\">\n",
       "  <thead>\n",
       "    <tr style=\"text-align: right;\">\n",
       "      <th></th>\n",
       "      <th>passenger_count</th>\n",
       "      <th>pickup_longitude</th>\n",
       "      <th>pickup_latitude</th>\n",
       "      <th>dropoff_longitude</th>\n",
       "      <th>dropoff_latitude</th>\n",
       "      <th>trip_duration</th>\n",
       "      <th>month</th>\n",
       "      <th>day</th>\n",
       "      <th>weekday</th>\n",
       "      <th>hour_pickup</th>\n",
       "      <th>minute_pickup</th>\n",
       "      <th>hour_dropoff</th>\n",
       "      <th>minute_dropoff</th>\n",
       "      <th>distance</th>\n",
       "    </tr>\n",
       "  </thead>\n",
       "  <tbody>\n",
       "    <tr>\n",
       "      <th>0</th>\n",
       "      <td>1</td>\n",
       "      <td>0.998410</td>\n",
       "      <td>0.972982</td>\n",
       "      <td>0.998173</td>\n",
       "      <td>0.972926</td>\n",
       "      <td>455</td>\n",
       "      <td>0.250000</td>\n",
       "      <td>0.451613</td>\n",
       "      <td>0.000000</td>\n",
       "      <td>0.708333</td>\n",
       "      <td>0.400000</td>\n",
       "      <td>0.708333</td>\n",
       "      <td>0.533333</td>\n",
       "      <td>0.045233</td>\n",
       "    </tr>\n",
       "    <tr>\n",
       "      <th>1</th>\n",
       "      <td>1</td>\n",
       "      <td>0.998386</td>\n",
       "      <td>0.972281</td>\n",
       "      <td>0.998643</td>\n",
       "      <td>0.972104</td>\n",
       "      <td>663</td>\n",
       "      <td>0.500000</td>\n",
       "      <td>0.387097</td>\n",
       "      <td>1.000000</td>\n",
       "      <td>0.000000</td>\n",
       "      <td>0.716667</td>\n",
       "      <td>0.000000</td>\n",
       "      <td>0.900000</td>\n",
       "      <td>0.054500</td>\n",
       "    </tr>\n",
       "    <tr>\n",
       "      <th>3</th>\n",
       "      <td>1</td>\n",
       "      <td>0.998786</td>\n",
       "      <td>0.971837</td>\n",
       "      <td>0.998816</td>\n",
       "      <td>0.971521</td>\n",
       "      <td>429</td>\n",
       "      <td>0.333333</td>\n",
       "      <td>0.193548</td>\n",
       "      <td>0.333333</td>\n",
       "      <td>0.791667</td>\n",
       "      <td>0.533333</td>\n",
       "      <td>0.791667</td>\n",
       "      <td>0.650000</td>\n",
       "      <td>0.044840</td>\n",
       "    </tr>\n",
       "    <tr>\n",
       "      <th>4</th>\n",
       "      <td>1</td>\n",
       "      <td>0.998287</td>\n",
       "      <td>0.973585</td>\n",
       "      <td>0.998285</td>\n",
       "      <td>0.973330</td>\n",
       "      <td>435</td>\n",
       "      <td>0.250000</td>\n",
       "      <td>0.838710</td>\n",
       "      <td>0.833333</td>\n",
       "      <td>0.541667</td>\n",
       "      <td>0.500000</td>\n",
       "      <td>0.541667</td>\n",
       "      <td>0.633333</td>\n",
       "      <td>0.035878</td>\n",
       "    </tr>\n",
       "    <tr>\n",
       "      <th>5</th>\n",
       "      <td>6</td>\n",
       "      <td>0.998419</td>\n",
       "      <td>0.972367</td>\n",
       "      <td>0.998544</td>\n",
       "      <td>0.972534</td>\n",
       "      <td>443</td>\n",
       "      <td>0.083333</td>\n",
       "      <td>0.967742</td>\n",
       "      <td>0.833333</td>\n",
       "      <td>0.916667</td>\n",
       "      <td>0.016667</td>\n",
       "      <td>0.916667</td>\n",
       "      <td>0.150000</td>\n",
       "      <td>0.033172</td>\n",
       "    </tr>\n",
       "  </tbody>\n",
       "</table>\n",
       "</div>"
      ],
      "text/plain": [
       "   passenger_count  pickup_longitude  pickup_latitude  dropoff_longitude  \\\n",
       "0                1          0.998410         0.972982           0.998173   \n",
       "1                1          0.998386         0.972281           0.998643   \n",
       "3                1          0.998786         0.971837           0.998816   \n",
       "4                1          0.998287         0.973585           0.998285   \n",
       "5                6          0.998419         0.972367           0.998544   \n",
       "\n",
       "   dropoff_latitude  trip_duration     month       day   weekday  hour_pickup  \\\n",
       "0          0.972926            455  0.250000  0.451613  0.000000     0.708333   \n",
       "1          0.972104            663  0.500000  0.387097  1.000000     0.000000   \n",
       "3          0.971521            429  0.333333  0.193548  0.333333     0.791667   \n",
       "4          0.973330            435  0.250000  0.838710  0.833333     0.541667   \n",
       "5          0.972534            443  0.083333  0.967742  0.833333     0.916667   \n",
       "\n",
       "   minute_pickup  hour_dropoff  minute_dropoff  distance  \n",
       "0       0.400000      0.708333        0.533333  0.045233  \n",
       "1       0.716667      0.000000        0.900000  0.054500  \n",
       "3       0.533333      0.791667        0.650000  0.044840  \n",
       "4       0.500000      0.541667        0.633333  0.035878  \n",
       "5       0.016667      0.916667        0.150000  0.033172  "
      ]
     },
     "metadata": {},
     "output_type": "display_data"
    }
   ],
   "source": [
    "display(processed_data.head())"
   ]
  },
  {
   "cell_type": "markdown",
   "metadata": {},
   "source": [
    "Let's look at the data types again:"
   ]
  },
  {
   "cell_type": "code",
   "execution_count": 26,
   "metadata": {},
   "outputs": [
    {
     "data": {
      "text/plain": [
       "passenger_count        int64\n",
       "pickup_longitude     float64\n",
       "pickup_latitude      float64\n",
       "dropoff_longitude    float64\n",
       "dropoff_latitude     float64\n",
       "trip_duration          int64\n",
       "month                float64\n",
       "day                  float64\n",
       "weekday              float64\n",
       "hour_pickup          float64\n",
       "minute_pickup        float64\n",
       "hour_dropoff         float64\n",
       "minute_dropoff       float64\n",
       "distance             float64\n",
       "dtype: object"
      ]
     },
     "execution_count": 26,
     "metadata": {},
     "output_type": "execute_result"
    }
   ],
   "source": [
    "processed_data.dtypes"
   ]
  },
  {
   "cell_type": "markdown",
   "metadata": {},
   "source": [
    "We can see there are no object types in the dataframe anymore."
   ]
  },
  {
   "cell_type": "markdown",
   "metadata": {},
   "source": [
    "Now we drop all the features we do not need anymore (as a matter of the new cleaned data). "
   ]
  },
  {
   "cell_type": "code",
   "execution_count": 27,
   "metadata": {},
   "outputs": [],
   "source": [
    "processed_data2=processed_data.drop(['passenger_count','month','day','weekday','hour_pickup','hour_dropoff','minute_dropoff','minute_pickup'], axis=1)"
   ]
  },
  {
   "cell_type": "markdown",
   "metadata": {},
   "source": [
    "## 6. Train-Test- Split\n",
    "We finished the data pre- processing. Now we can split into training and test data to be able to see how our predictor is working on unseen data. This is necessary to be able to compare the quality of the predictor. We choose 'random_state=42' to warrant reproducibility."
   ]
  },
  {
   "cell_type": "code",
   "execution_count": 28,
   "metadata": {},
   "outputs": [
    {
     "name": "stderr",
     "output_type": "stream",
     "text": [
      "/anaconda3/lib/python3.6/site-packages/sklearn/cross_validation.py:41: DeprecationWarning: This module was deprecated in version 0.18 in favor of the model_selection module into which all the refactored classes and functions are moved. Also note that the interface of the new CV iterators are different from that of this module. This module will be removed in 0.20.\n",
      "  \"This module will be removed in 0.20.\", DeprecationWarning)\n"
     ]
    }
   ],
   "source": [
    "from sklearn.cross_validation import train_test_split\n",
    "from sklearn import preprocessing\n",
    "\n",
    "data_X=processed_data.drop(['trip_duration'],axis=1)\n",
    "data_y=processed_data[['trip_duration']]\n",
    "X_train, X_test, y_train, y_test = train_test_split(data_X, data_y, test_size=0.20, random_state=42)"
   ]
  },
  {
   "cell_type": "markdown",
   "metadata": {},
   "source": [
    "## 7. Train Machine Learning Algorithm"
   ]
  },
  {
   "cell_type": "markdown",
   "metadata": {},
   "source": [
    "## 7.1. Random Forest Regressor"
   ]
  },
  {
   "cell_type": "markdown",
   "metadata": {},
   "source": [
    "Now the time is up to train our actual predictor. We decided to use a random forest as predictor. A nice video explaining RF https://www.youtube.com/watch?v=D_2LkhMJcfY."
   ]
  },
  {
   "cell_type": "code",
   "execution_count": 29,
   "metadata": {},
   "outputs": [],
   "source": [
    "from sklearn.ensemble import RandomForestRegressor\n",
    "cls1=RandomForestRegressor(n_estimators=15)\n",
    "cls1.fit(X_train, y_train)\n",
    "y_pred=cls1.predict(X_test)"
   ]
  },
  {
   "cell_type": "markdown",
   "metadata": {},
   "source": [
    "## 8. Evaluate "
   ]
  },
  {
   "cell_type": "markdown",
   "metadata": {},
   "source": [
    "Now we use the test data (true trip_duration) and our predicted duration to evaluate our Machine Learning Algorithm."
   ]
  },
  {
   "cell_type": "code",
   "execution_count": 30,
   "metadata": {},
   "outputs": [
    {
     "data": {
      "text/plain": [
       "103.86666666666667"
      ]
     },
     "execution_count": 30,
     "metadata": {},
     "output_type": "execute_result"
    }
   ],
   "source": [
    "from sklearn.metrics import median_absolute_error\n",
    "median_absolute_error(y_test,y_pred)"
   ]
  },
  {
   "cell_type": "code",
   "execution_count": 31,
   "metadata": {},
   "outputs": [
    {
     "data": {
      "text/html": [
       "<div>\n",
       "<style scoped>\n",
       "    .dataframe tbody tr th:only-of-type {\n",
       "        vertical-align: middle;\n",
       "    }\n",
       "\n",
       "    .dataframe tbody tr th {\n",
       "        vertical-align: top;\n",
       "    }\n",
       "\n",
       "    .dataframe thead th {\n",
       "        text-align: right;\n",
       "    }\n",
       "</style>\n",
       "<table border=\"1\" class=\"dataframe\">\n",
       "  <thead>\n",
       "    <tr style=\"text-align: right;\">\n",
       "      <th></th>\n",
       "      <th>0</th>\n",
       "    </tr>\n",
       "  </thead>\n",
       "  <tbody>\n",
       "    <tr>\n",
       "      <th>count</th>\n",
       "      <td>259015.000000</td>\n",
       "    </tr>\n",
       "    <tr>\n",
       "      <th>mean</th>\n",
       "      <td>142.767118</td>\n",
       "    </tr>\n",
       "    <tr>\n",
       "      <th>std</th>\n",
       "      <td>138.696911</td>\n",
       "    </tr>\n",
       "    <tr>\n",
       "      <th>min</th>\n",
       "      <td>0.000000</td>\n",
       "    </tr>\n",
       "    <tr>\n",
       "      <th>25%</th>\n",
       "      <td>47.133333</td>\n",
       "    </tr>\n",
       "    <tr>\n",
       "      <th>50%</th>\n",
       "      <td>103.866667</td>\n",
       "    </tr>\n",
       "    <tr>\n",
       "      <th>75%</th>\n",
       "      <td>193.666667</td>\n",
       "    </tr>\n",
       "    <tr>\n",
       "      <th>max</th>\n",
       "      <td>1707.000000</td>\n",
       "    </tr>\n",
       "  </tbody>\n",
       "</table>\n",
       "</div>"
      ],
      "text/plain": [
       "                   0\n",
       "count  259015.000000\n",
       "mean      142.767118\n",
       "std       138.696911\n",
       "min         0.000000\n",
       "25%        47.133333\n",
       "50%       103.866667\n",
       "75%       193.666667\n",
       "max      1707.000000"
      ]
     },
     "execution_count": 31,
     "metadata": {},
     "output_type": "execute_result"
    }
   ],
   "source": [
    "y_true=np.array(y_test['trip_duration'])\n",
    "pd.DataFrame(abs(y_pred-y_true)).describe()"
   ]
  },
  {
   "cell_type": "markdown",
   "metadata": {},
   "source": [
    "Some space above we saw that the median trip takes 655.0 seconds. As we can see the median error supplied by the predictor is 103.8 seconds. So is this a good result?\n",
    "\n",
    "Let's remember the last times in traffic. Sometimes the traffic is moving - sometime it isn't.\n",
    "It seems that there does not exist a perfect predictor - there are to many dependencies we do not know and of course we do not have all sufficient data. So there is a huge variance in trip duration for similar cab rides.\n",
    "\n",
    "As a matter of fact we think a median error of 103.8 seconds is quite a nice result we can be proud of a bit. "
   ]
  }
 ],
 "metadata": {
  "kernelspec": {
   "display_name": "Python 3",
   "language": "python",
   "name": "python3"
  },
  "language_info": {
   "codemirror_mode": {
    "name": "ipython",
    "version": 3
   },
   "file_extension": ".py",
   "mimetype": "text/x-python",
   "name": "python",
   "nbconvert_exporter": "python",
   "pygments_lexer": "ipython3",
   "version": "3.6.4"
  }
 },
 "nbformat": 4,
 "nbformat_minor": 2
}
